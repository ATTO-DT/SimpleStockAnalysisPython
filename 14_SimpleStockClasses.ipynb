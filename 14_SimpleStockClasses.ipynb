{
  "cells": [
    {
      "cell_type": "markdown",
      "source": [
        "# Simple Stock Classes and Objects"
      ],
      "metadata": {}
    },
    {
      "cell_type": "markdown",
      "source": [
        "## This tutorial teaches how to write simple classes and objects for stock."
      ],
      "metadata": {}
    },
    {
      "cell_type": "code",
      "source": [
        "# Library\n",
        "import numpy as np\n",
        "import matplotlib.pyplot as plt\n",
        "import seaborn as sns\n",
        "import pandas as pd\n",
        "\n",
        "import warnings\n",
        "warnings.filterwarnings(\"ignore\") \n",
        "\n",
        "# fix_yahoo_finance is used to fetch data \n",
        "import fix_yahoo_finance as yf\n",
        "yf.pdr_override()"
      ],
      "outputs": [],
      "execution_count": 1,
      "metadata": {
        "collapsed": false,
        "outputHidden": false,
        "inputHidden": false
      }
    },
    {
      "cell_type": "code",
      "source": [
        "# input\n",
        "symbol = 'AAPL'\n",
        "start = '2014-01-01'\n",
        "end = '2019-01-01'\n",
        "\n",
        "# Read data \n",
        "dataset = yf.download(symbol,start,end)\n",
        "\n",
        "# View Columns\n",
        "dataset.head()"
      ],
      "outputs": [
        {
          "output_type": "stream",
          "name": "stdout",
          "text": [
            "[*********************100%***********************]  1 of 1 downloaded\n"
          ]
        },
        {
          "output_type": "execute_result",
          "execution_count": 2,
          "data": {
            "text/plain": [
              "                 Open       High        Low      Close  Adj Close     Volume\n",
              "Date                                                                        \n",
              "2014-01-02  79.382858  79.575714  78.860001  79.018570  66.964325   58671200\n",
              "2014-01-03  78.980003  79.099998  77.204285  77.282860  65.493416   98116900\n",
              "2014-01-06  76.778572  78.114288  76.228569  77.704285  65.850533  103152700\n",
              "2014-01-07  77.760002  77.994286  76.845711  77.148575  65.379593   79302300\n",
              "2014-01-08  76.972855  77.937141  76.955711  77.637146  65.793633   64632400"
            ],
            "text/html": [
              "<div>\n",
              "<style scoped>\n",
              "    .dataframe tbody tr th:only-of-type {\n",
              "        vertical-align: middle;\n",
              "    }\n",
              "\n",
              "    .dataframe tbody tr th {\n",
              "        vertical-align: top;\n",
              "    }\n",
              "\n",
              "    .dataframe thead th {\n",
              "        text-align: right;\n",
              "    }\n",
              "</style>\n",
              "<table border=\"1\" class=\"dataframe\">\n",
              "  <thead>\n",
              "    <tr style=\"text-align: right;\">\n",
              "      <th></th>\n",
              "      <th>Open</th>\n",
              "      <th>High</th>\n",
              "      <th>Low</th>\n",
              "      <th>Close</th>\n",
              "      <th>Adj Close</th>\n",
              "      <th>Volume</th>\n",
              "    </tr>\n",
              "    <tr>\n",
              "      <th>Date</th>\n",
              "      <th></th>\n",
              "      <th></th>\n",
              "      <th></th>\n",
              "      <th></th>\n",
              "      <th></th>\n",
              "      <th></th>\n",
              "    </tr>\n",
              "  </thead>\n",
              "  <tbody>\n",
              "    <tr>\n",
              "      <th>2014-01-02</th>\n",
              "      <td>79.382858</td>\n",
              "      <td>79.575714</td>\n",
              "      <td>78.860001</td>\n",
              "      <td>79.018570</td>\n",
              "      <td>66.964325</td>\n",
              "      <td>58671200</td>\n",
              "    </tr>\n",
              "    <tr>\n",
              "      <th>2014-01-03</th>\n",
              "      <td>78.980003</td>\n",
              "      <td>79.099998</td>\n",
              "      <td>77.204285</td>\n",
              "      <td>77.282860</td>\n",
              "      <td>65.493416</td>\n",
              "      <td>98116900</td>\n",
              "    </tr>\n",
              "    <tr>\n",
              "      <th>2014-01-06</th>\n",
              "      <td>76.778572</td>\n",
              "      <td>78.114288</td>\n",
              "      <td>76.228569</td>\n",
              "      <td>77.704285</td>\n",
              "      <td>65.850533</td>\n",
              "      <td>103152700</td>\n",
              "    </tr>\n",
              "    <tr>\n",
              "      <th>2014-01-07</th>\n",
              "      <td>77.760002</td>\n",
              "      <td>77.994286</td>\n",
              "      <td>76.845711</td>\n",
              "      <td>77.148575</td>\n",
              "      <td>65.379593</td>\n",
              "      <td>79302300</td>\n",
              "    </tr>\n",
              "    <tr>\n",
              "      <th>2014-01-08</th>\n",
              "      <td>76.972855</td>\n",
              "      <td>77.937141</td>\n",
              "      <td>76.955711</td>\n",
              "      <td>77.637146</td>\n",
              "      <td>65.793633</td>\n",
              "      <td>64632400</td>\n",
              "    </tr>\n",
              "  </tbody>\n",
              "</table>\n",
              "</div>"
            ]
          },
          "metadata": {}
        }
      ],
      "execution_count": 2,
      "metadata": {
        "collapsed": false,
        "outputHidden": false,
        "inputHidden": false
      }
    },
    {
      "cell_type": "markdown",
      "source": [
        "## Create Basic Class"
      ],
      "metadata": {}
    },
    {
      "cell_type": "code",
      "source": [
        "class stock_data:\n",
        "    def __init__(self):\n",
        "        pass\n",
        "    \n",
        "    def function(self):\n",
        "        print(\"Here my stock data:\\n\", dataset)"
      ],
      "outputs": [],
      "execution_count": 3,
      "metadata": {}
    },
    {
      "cell_type": "code",
      "source": [
        "myobject = stock_data\n",
        "print(myobject.function(dataset))"
      ],
      "outputs": [
        {
          "output_type": "stream",
          "name": "stdout",
          "text": [
            "Here my stock data:\n",
            "                   Open        High         Low       Close   Adj Close  \\\n",
            "Date                                                                     \n",
            "2014-01-02   79.382858   79.575714   78.860001   79.018570   66.964325   \n",
            "2014-01-03   78.980003   79.099998   77.204285   77.282860   65.493416   \n",
            "2014-01-06   76.778572   78.114288   76.228569   77.704285   65.850533   \n",
            "2014-01-07   77.760002   77.994286   76.845711   77.148575   65.379593   \n",
            "2014-01-08   76.972855   77.937141   76.955711   77.637146   65.793633   \n",
            "2014-01-09   78.114288   78.122856   76.478569   76.645714   64.953445   \n",
            "2014-01-10   77.118568   77.257141   75.872856   76.134285   64.520035   \n",
            "2014-01-13   75.701431   77.500000   75.697144   76.532860   64.857819   \n",
            "2014-01-14   76.888573   78.104286   76.808571   78.055717   66.148376   \n",
            "2014-01-15   79.074287   80.028572   78.808571   79.622856   67.476418   \n",
            "2014-01-16   79.271431   79.550003   78.811432   79.178574   67.099922   \n",
            "2014-01-17   78.782860   78.867142   77.128571   77.238571   65.455879   \n",
            "2014-01-21   77.284286   78.581429   77.202858   78.438568   66.472824   \n",
            "2014-01-22   78.701431   79.612854   78.258568   78.787140   66.768219   \n",
            "2014-01-23   78.562859   79.500000   77.830002   79.454285   67.333588   \n",
            "2014-01-24   79.142860   79.374283   77.821426   78.010002   66.109619   \n",
            "2014-01-27   78.581429   79.257141   77.964287   78.642860   66.645943   \n",
            "2014-01-28   72.680000   73.571426   71.724289   72.357140   61.319111   \n",
            "2014-01-29   71.992859   72.481430   71.231430   71.535713   60.622982   \n",
            "2014-01-30   71.791428   72.357140   70.957146   71.397141   60.505547   \n",
            "2014-01-31   70.739998   71.647141   70.507141   71.514282   60.604813   \n",
            "2014-02-03   71.801430   72.532860   71.328575   71.647141   60.717407   \n",
            "2014-02-04   72.264282   72.779999   71.822861   72.684288   61.596340   \n",
            "2014-02-05   72.365715   73.611427   72.321426   73.227142   62.056385   \n",
            "2014-02-06   72.865715   73.357140   72.544289   73.215714   64.743347   \n",
            "2014-02-07   74.482857   74.704285   73.911430   74.239998   65.649094   \n",
            "2014-02-10   74.094284   75.998573   74.000000   75.570000   66.825180   \n",
            "2014-02-11   75.801430   76.821426   75.642860   76.565712   67.705673   \n",
            "2014-02-12   76.707146   77.080002   76.177139   76.559998   67.700623   \n",
            "2014-02-13   76.379997   77.835716   76.314285   77.775711   68.775658   \n",
            "...                ...         ...         ...         ...         ...   \n",
            "2018-11-15  188.389999  191.970001  186.899994  191.410004  190.592590   \n",
            "2018-11-16  190.500000  194.970001  189.460007  193.529999  192.703537   \n",
            "2018-11-19  190.000000  190.699997  184.990005  185.860001  185.066284   \n",
            "2018-11-20  178.369995  181.470001  175.509995  176.979996  176.224197   \n",
            "2018-11-21  179.729996  180.270004  176.550003  176.779999  176.025055   \n",
            "2018-11-23  174.940002  176.600006  172.100006  172.289993  171.554230   \n",
            "2018-11-26  174.240005  174.949997  170.259995  174.619995  173.874283   \n",
            "2018-11-27  171.509995  174.770004  170.880005  174.240005  173.495911   \n",
            "2018-11-28  176.729996  181.289993  174.929993  180.940002  180.167297   \n",
            "2018-11-29  182.660004  182.800003  177.699997  179.550003  178.783234   \n",
            "2018-11-30  180.289993  180.330002  177.029999  178.580002  177.817383   \n",
            "2018-12-03  184.460007  184.940002  181.210007  184.820007  184.030731   \n",
            "2018-12-04  180.949997  182.389999  176.270004  176.690002  175.935455   \n",
            "2018-12-06  171.759995  174.779999  170.419998  174.720001  173.973862   \n",
            "2018-12-07  173.490005  174.490005  168.300003  168.490005  167.770477   \n",
            "2018-12-10  165.000000  170.089996  163.330002  169.600006  168.875732   \n",
            "2018-12-11  171.660004  171.789993  167.000000  168.630005  167.909866   \n",
            "2018-12-12  170.399994  171.919998  169.020004  169.100006  168.377869   \n",
            "2018-12-13  170.490005  172.570007  169.550003  170.949997  170.219955   \n",
            "2018-12-14  169.000000  169.080002  165.279999  165.479996  164.773315   \n",
            "2018-12-17  165.449997  168.350006  162.729996  163.940002  163.239899   \n",
            "2018-12-18  165.380005  167.529999  164.389999  166.070007  165.360809   \n",
            "2018-12-19  166.000000  167.449997  159.089996  160.889999  160.202927   \n",
            "2018-12-20  160.399994  162.110001  155.300003  156.830002  156.160263   \n",
            "2018-12-21  156.860001  158.160004  149.630005  150.729996  150.086304   \n",
            "2018-12-24  148.149994  151.550003  146.589996  146.830002  146.202972   \n",
            "2018-12-26  148.300003  157.229996  146.720001  157.169998  156.498810   \n",
            "2018-12-27  155.839996  156.770004  150.070007  156.149994  155.483154   \n",
            "2018-12-28  157.500000  158.520004  154.550003  156.229996  155.562820   \n",
            "2018-12-31  158.529999  159.360001  156.479996  157.740005  157.066376   \n",
            "\n",
            "               Volume  \n",
            "Date                   \n",
            "2014-01-02   58671200  \n",
            "2014-01-03   98116900  \n",
            "2014-01-06  103152700  \n",
            "2014-01-07   79302300  \n",
            "2014-01-08   64632400  \n",
            "2014-01-09   69787200  \n",
            "2014-01-10   76244000  \n",
            "2014-01-13   94623200  \n",
            "2014-01-14   83140400  \n",
            "2014-01-15   97909700  \n",
            "2014-01-16   57319500  \n",
            "2014-01-17  106684900  \n",
            "2014-01-21   82131700  \n",
            "2014-01-22   94996300  \n",
            "2014-01-23  100809800  \n",
            "2014-01-24  107338700  \n",
            "2014-01-27  138719700  \n",
            "2014-01-28  266380800  \n",
            "2014-01-29  125702500  \n",
            "2014-01-30  169625400  \n",
            "2014-01-31  116199300  \n",
            "2014-02-03  100366000  \n",
            "2014-02-04   94170300  \n",
            "2014-02-05   82086200  \n",
            "2014-02-06   64441300  \n",
            "2014-02-07   92570100  \n",
            "2014-02-10   86389800  \n",
            "2014-02-11   70564200  \n",
            "2014-02-12   77025200  \n",
            "2014-02-13   76849500  \n",
            "...               ...  \n",
            "2018-11-15   46478800  \n",
            "2018-11-16   36928300  \n",
            "2018-11-19   41925300  \n",
            "2018-11-20   67825200  \n",
            "2018-11-21   31124200  \n",
            "2018-11-23   23624000  \n",
            "2018-11-26   44998500  \n",
            "2018-11-27   41387400  \n",
            "2018-11-28   46062500  \n",
            "2018-11-29   41770000  \n",
            "2018-11-30   39531500  \n",
            "2018-12-03   40802500  \n",
            "2018-12-04   41344300  \n",
            "2018-12-06   43098400  \n",
            "2018-12-07   42281600  \n",
            "2018-12-10   62026000  \n",
            "2018-12-11   47281700  \n",
            "2018-12-12   35627700  \n",
            "2018-12-13   31898600  \n",
            "2018-12-14   40703700  \n",
            "2018-12-17   44287900  \n",
            "2018-12-18   33841500  \n",
            "2018-12-19   49047300  \n",
            "2018-12-20   64773000  \n",
            "2018-12-21   95744600  \n",
            "2018-12-24   37169200  \n",
            "2018-12-26   58582500  \n",
            "2018-12-27   53117100  \n",
            "2018-12-28   42291400  \n",
            "2018-12-31   35003500  \n",
            "\n",
            "[1258 rows x 6 columns]\n",
            "None\n"
          ]
        }
      ],
      "execution_count": 4,
      "metadata": {
        "collapsed": false,
        "outputHidden": false,
        "inputHidden": false
      }
    },
    {
      "cell_type": "markdown",
      "source": [
        "## Create Class of Exploratory Data"
      ],
      "metadata": {}
    },
    {
      "cell_type": "code",
      "source": [
        "# Create class\n",
        "class ExploratoryData:\n",
        "    # Initialize class with self argument\n",
        "    def __init__(self):\n",
        "        pass\n",
        "    \n",
        "    # Define class method which takes self argument: print_stock_summary\n",
        "    def print_stock_summary(self):\n",
        "        # Print string\n",
        "        print(\"__________________Exploratory Data Analysis__________________\")\n",
        "        print(\"Stock Data\")\n",
        "        print('-'*60)\n",
        "        print(\"Dataset information\") \n",
        "        print(dataset.info(memory_usage='deep',verbose=False))\n",
        "        print('-'*60)\n",
        "        print(dataset.info())\n",
        "        print('-'*60)\n",
        "        print(\"Data type:\")\n",
        "        print(dataset.dtypes)\n",
        "        print('-'*60)\n",
        "        print(\"Check unique values wihtout NaN\")\n",
        "        print(dataset.nunique())\n",
        "        print('-'*60)\n",
        "        print(\"Data shape:\")\n",
        "        print(dataset.shape)\n",
        "        print('-'*60)\n",
        "        print(\"Data columns Names:\")\n",
        "        print(dataset.columns)\n",
        "        print('-'*60)\n",
        "        print(\"Check for NaNs:\")\n",
        "        print(dataset.isnull().values.any())\n",
        "        print(\"Check for NaNs in rows:\")\n",
        "        print(dataset.isnull().sum(axis = 0))\n",
        "        print(\"Check for NaNs in columns:\")\n",
        "        print(dataset.isnull().sum(axis = 1))\n",
        "        print('-'*60)\n",
        "        print(\"Data Statistics Summary:\")\n",
        "        print(dataset.describe())"
      ],
      "outputs": [],
      "execution_count": 5,
      "metadata": {
        "collapsed": false,
        "outputHidden": false,
        "inputHidden": false
      }
    },
    {
      "cell_type": "code",
      "source": [
        "ExploratoryData.print_stock_summary(dataset)"
      ],
      "outputs": [
        {
          "output_type": "stream",
          "name": "stdout",
          "text": [
            "__________________Exploratory Data Analysis__________________\n",
            "Stock Data\n",
            "------------------------------------------------------------\n",
            "Dataset information\n",
            "<class 'pandas.core.frame.DataFrame'>\n",
            "DatetimeIndex: 1258 entries, 2014-01-02 to 2018-12-31\n",
            "Columns: 6 entries, Open to Volume\n",
            "dtypes: float64(5), int32(1)\n",
            "memory usage: 63.9 KB\n",
            "None\n",
            "------------------------------------------------------------\n",
            "<class 'pandas.core.frame.DataFrame'>\n",
            "DatetimeIndex: 1258 entries, 2014-01-02 to 2018-12-31\n",
            "Data columns (total 6 columns):\n",
            "Open         1258 non-null float64\n",
            "High         1258 non-null float64\n",
            "Low          1258 non-null float64\n",
            "Close        1258 non-null float64\n",
            "Adj Close    1258 non-null float64\n",
            "Volume       1258 non-null int32\n",
            "dtypes: float64(5), int32(1)\n",
            "memory usage: 63.9 KB\n",
            "None\n",
            "------------------------------------------------------------\n",
            "Data type:\n",
            "Open         float64\n",
            "High         float64\n",
            "Low          float64\n",
            "Close        float64\n",
            "Adj Close    float64\n",
            "Volume         int32\n",
            "dtype: object\n",
            "------------------------------------------------------------\n",
            "Check unique values wihtout NaN\n",
            "Open         1184\n",
            "High         1179\n",
            "Low          1180\n",
            "Close        1170\n",
            "Adj Close    1232\n",
            "Volume       1255\n",
            "dtype: int64\n",
            "------------------------------------------------------------\n",
            "Data shape:\n",
            "(1258, 6)\n",
            "------------------------------------------------------------\n",
            "Data columns Names:\n",
            "Index(['Open', 'High', 'Low', 'Close', 'Adj Close', 'Volume'], dtype='object')\n",
            "------------------------------------------------------------\n",
            "Check for NaNs:\n",
            "False\n",
            "Check for NaNs in rows:\n",
            "Open         0\n",
            "High         0\n",
            "Low          0\n",
            "Close        0\n",
            "Adj Close    0\n",
            "Volume       0\n",
            "dtype: int64\n",
            "Check for NaNs in columns:\n",
            "Date\n",
            "2014-01-02    0\n",
            "2014-01-03    0\n",
            "2014-01-06    0\n",
            "2014-01-07    0\n",
            "2014-01-08    0\n",
            "2014-01-09    0\n",
            "2014-01-10    0\n",
            "2014-01-13    0\n",
            "2014-01-14    0\n",
            "2014-01-15    0\n",
            "2014-01-16    0\n",
            "2014-01-17    0\n",
            "2014-01-21    0\n",
            "2014-01-22    0\n",
            "2014-01-23    0\n",
            "2014-01-24    0\n",
            "2014-01-27    0\n",
            "2014-01-28    0\n",
            "2014-01-29    0\n",
            "2014-01-30    0\n",
            "2014-01-31    0\n",
            "2014-02-03    0\n",
            "2014-02-04    0\n",
            "2014-02-05    0\n",
            "2014-02-06    0\n",
            "2014-02-07    0\n",
            "2014-02-10    0\n",
            "2014-02-11    0\n",
            "2014-02-12    0\n",
            "2014-02-13    0\n",
            "             ..\n",
            "2018-11-15    0\n",
            "2018-11-16    0\n",
            "2018-11-19    0\n",
            "2018-11-20    0\n",
            "2018-11-21    0\n",
            "2018-11-23    0\n",
            "2018-11-26    0\n",
            "2018-11-27    0\n",
            "2018-11-28    0\n",
            "2018-11-29    0\n",
            "2018-11-30    0\n",
            "2018-12-03    0\n",
            "2018-12-04    0\n",
            "2018-12-06    0\n",
            "2018-12-07    0\n",
            "2018-12-10    0\n",
            "2018-12-11    0\n",
            "2018-12-12    0\n",
            "2018-12-13    0\n",
            "2018-12-14    0\n",
            "2018-12-17    0\n",
            "2018-12-18    0\n",
            "2018-12-19    0\n",
            "2018-12-20    0\n",
            "2018-12-21    0\n",
            "2018-12-24    0\n",
            "2018-12-26    0\n",
            "2018-12-27    0\n",
            "2018-12-28    0\n",
            "2018-12-31    0\n",
            "Length: 1258, dtype: int64\n",
            "------------------------------------------------------------\n",
            "Data Statistics Summary:\n",
            "              Open         High          Low        Close    Adj Close  \\\n",
            "count  1258.000000  1258.000000  1258.000000  1258.000000  1258.000000   \n",
            "mean    131.227685   132.355248   130.079289   131.241425   125.947447   \n",
            "std      37.428791    37.771772    37.064776    37.414122    39.320418   \n",
            "min      70.739998    71.647141    70.507141    71.397141    60.505547   \n",
            "25%     102.900000   104.374998   102.440003   103.037502    97.125576   \n",
            "50%     118.940002   119.889999   118.215000   119.180001   112.998409   \n",
            "75%     158.522499   159.990002   156.707500   157.830002   155.141937   \n",
            "max     230.779999   233.470001   229.779999   232.070007   230.275482   \n",
            "\n",
            "             Volume  \n",
            "count  1.258000e+03  \n",
            "mean   4.293058e+07  \n",
            "std    2.358262e+07  \n",
            "min    1.147590e+07  \n",
            "25%    2.660325e+07  \n",
            "50%    3.694200e+07  \n",
            "75%    5.234740e+07  \n",
            "max    2.663808e+08  \n"
          ]
        }
      ],
      "execution_count": 6,
      "metadata": {
        "collapsed": false,
        "outputHidden": false,
        "inputHidden": false
      }
    },
    {
      "cell_type": "markdown",
      "source": [
        "## Create Class of daily returns and plot histogram"
      ],
      "metadata": {}
    },
    {
      "cell_type": "code",
      "source": [
        "# Create class: DataShell\n",
        "class StockReturns:\n",
        "  \n",
        "\t# Initialize class with self and stockData as arguments\n",
        "    def __init__(self, stockData):\n",
        "      \t# Set data as instance variable, and assign it the value of stockData\n",
        "        self.data = stockData\n",
        "    \n",
        "    # Define Log Returns\n",
        "    def stock_log(self):\n",
        "        log_returns = np.log(dataset['Adj Close'].shift(-1)) - np.log(dataset['Adj Close'])\n",
        "        return log_returns\n",
        "    \n",
        "\t# Define MU\n",
        "    def stock_mu(self):\n",
        "        log_returns = np.log(dataset['Adj Close'].shift(-1)) - np.log(dataset['Adj Close'])\n",
        "        mu = log_returns.mean()\n",
        "        return mu\n",
        "        \n",
        "    # Define Sigma\n",
        "    def stock_sigma(self):\n",
        "        log_returns = np.log(dataset['Adj Close'].shift(-1)) - np.log(dataset['Adj Close'])\n",
        "        sigma = log_returns.std(ddof=1)\n",
        "        return sigma"
      ],
      "outputs": [],
      "execution_count": 7,
      "metadata": {
        "collapsed": false,
        "outputHidden": false,
        "inputHidden": false
      }
    },
    {
      "cell_type": "code",
      "source": [
        "stock_data = StockReturns(dataset)"
      ],
      "outputs": [],
      "execution_count": 8,
      "metadata": {
        "collapsed": false,
        "outputHidden": false,
        "inputHidden": false
      }
    },
    {
      "cell_type": "code",
      "source": [
        "stock_data.stock_log()"
      ],
      "outputs": [
        {
          "output_type": "execute_result",
          "execution_count": 9,
          "data": {
            "text/plain": [
              "Date\n",
              "2014-01-02   -0.022210\n",
              "2014-01-03    0.005438\n",
              "2014-01-06   -0.007177\n",
              "2014-01-07    0.006313\n",
              "2014-01-08   -0.012852\n",
              "2014-01-09   -0.006695\n",
              "2014-01-10    0.005222\n",
              "2014-01-13    0.019703\n",
              "2014-01-14    0.019878\n",
              "2014-01-15   -0.005595\n",
              "2014-01-16   -0.024807\n",
              "2014-01-17    0.015417\n",
              "2014-01-21    0.004434\n",
              "2014-01-22    0.008432\n",
              "2014-01-23   -0.018345\n",
              "2014-01-24    0.008080\n",
              "2014-01-27   -0.083303\n",
              "2014-01-28   -0.011417\n",
              "2014-01-29   -0.001939\n",
              "2014-01-30    0.001639\n",
              "2014-01-31    0.001856\n",
              "2014-02-03    0.014372\n",
              "2014-02-04    0.007441\n",
              "2014-02-05    0.042388\n",
              "2014-02-06    0.013893\n",
              "2014-02-07    0.017756\n",
              "2014-02-10    0.013090\n",
              "2014-02-11   -0.000075\n",
              "2014-02-12    0.015754\n",
              "2014-02-13   -0.000808\n",
              "                ...   \n",
              "2018-11-15    0.011015\n",
              "2018-11-16   -0.040439\n",
              "2018-11-19   -0.048957\n",
              "2018-11-20   -0.001131\n",
              "2018-11-21   -0.025727\n",
              "2018-11-23    0.013433\n",
              "2018-11-26   -0.002178\n",
              "2018-11-27    0.037732\n",
              "2018-11-28   -0.007712\n",
              "2018-11-29   -0.005417\n",
              "2018-11-30    0.034346\n",
              "2018-12-03   -0.044986\n",
              "2018-12-04   -0.011212\n",
              "2018-12-06   -0.036308\n",
              "2018-12-07    0.006566\n",
              "2018-12-10   -0.005736\n",
              "2018-12-11    0.002783\n",
              "2018-12-12    0.010881\n",
              "2018-12-13   -0.032521\n",
              "2018-12-14   -0.009350\n",
              "2018-12-17    0.012909\n",
              "2018-12-18   -0.031689\n",
              "2018-12-19   -0.025558\n",
              "2018-12-20   -0.039672\n",
              "2018-12-21   -0.026215\n",
              "2018-12-24    0.068053\n",
              "2018-12-26   -0.006511\n",
              "2018-12-27    0.000512\n",
              "2018-12-28    0.009619\n",
              "2018-12-31         NaN\n",
              "Name: Adj Close, Length: 1258, dtype: float64"
            ]
          },
          "metadata": {}
        }
      ],
      "execution_count": 9,
      "metadata": {
        "collapsed": false,
        "outputHidden": false,
        "inputHidden": false
      }
    },
    {
      "cell_type": "code",
      "source": [
        "stock_data.stock_log().head()"
      ],
      "outputs": [
        {
          "output_type": "execute_result",
          "execution_count": 10,
          "data": {
            "text/plain": [
              "Date\n",
              "2014-01-02   -0.022210\n",
              "2014-01-03    0.005438\n",
              "2014-01-06   -0.007177\n",
              "2014-01-07    0.006313\n",
              "2014-01-08   -0.012852\n",
              "Name: Adj Close, dtype: float64"
            ]
          },
          "metadata": {}
        }
      ],
      "execution_count": 10,
      "metadata": {
        "collapsed": false,
        "outputHidden": false,
        "inputHidden": false
      }
    },
    {
      "cell_type": "code",
      "source": [
        "stock_data.stock_mu()"
      ],
      "outputs": [
        {
          "output_type": "execute_result",
          "execution_count": 11,
          "data": {
            "text/plain": [
              "0.0006782088131881666"
            ]
          },
          "metadata": {}
        }
      ],
      "execution_count": 11,
      "metadata": {
        "collapsed": false,
        "outputHidden": false,
        "inputHidden": false
      }
    },
    {
      "cell_type": "code",
      "source": [
        "stock_data.stock_sigma()"
      ],
      "outputs": [
        {
          "output_type": "execute_result",
          "execution_count": 12,
          "data": {
            "text/plain": [
              "0.015148978800639767"
            ]
          },
          "metadata": {}
        }
      ],
      "execution_count": 12,
      "metadata": {
        "collapsed": false,
        "outputHidden": false,
        "inputHidden": false
      }
    },
    {
      "cell_type": "markdown",
      "source": [
        "## Create Class of Family"
      ],
      "metadata": {}
    },
    {
      "cell_type": "code",
      "source": [
        "# Define Class of family for stock\n",
        "class Stock_Data:\n",
        "    # Stock_Family = 'DataStock'\n",
        "    def __init__(self): \n",
        "        self.data = dataset\n",
        "\n",
        "# Define class Plot_Line\n",
        "class Plot_Line(Stock_Data):\n",
        "    def __init__(self):\n",
        "        f = plt.figure(figsize=(14,10))\n",
        "        plt.plot(self.data['Adj Close'])\n",
        "        plt.legend(loc='best')\n",
        "        plt.title('Stock Closing Price')\n",
        "        plt.xlabel('Date')\n",
        "        plt.ylabel('Price')\n",
        "        return f\n",
        "    \n",
        "# Define class Plot_hist\n",
        "class Plot_hist(Stock_Data):\n",
        "    def __init__(self):\n",
        "        f = plt.figure(figsize=(14,10))\n",
        "        plt.hist(self.data['Adj Close'])\n",
        "        plt.legend(loc='best')\n",
        "        plt.title('Stock Closing Price')\n",
        "        plt.xlabel('Date')\n",
        "        plt.ylabel('Price')\n",
        "        return f"
      ],
      "outputs": [],
      "execution_count": 13,
      "metadata": {
        "collapsed": false,
        "outputHidden": false,
        "inputHidden": false
      }
    },
    {
      "cell_type": "code",
      "source": [
        "class Stock_Data(object):\n",
        "    def __init__(self): \n",
        "        pass\n",
        "      \n",
        "    # Define class Plot_Line\n",
        "    def Plot_Line(self):\n",
        "        plt.figure(figsize=(14,10))\n",
        "        plt.plot(dataset['Adj Close'])\n",
        "        plt.legend(loc='best')\n",
        "        plt.title('Stock Closing Price')\n",
        "        plt.xlabel('Date')\n",
        "        plt.ylabel('Price')\n",
        "        return \n",
        "    \n",
        "    # Define class Plot_hist\n",
        "    def Plot_hist(sef):\n",
        "        f = plt.figure(figsize=(14,10))\n",
        "        plt.hist(dataset['Adj Close'])\n",
        "        plt.title('Stock Closing Price')\n",
        "        plt.xlabel('Date')\n",
        "        plt.ylabel('Price')\n",
        "        return"
      ],
      "outputs": [],
      "execution_count": 14,
      "metadata": {
        "collapsed": false,
        "outputHidden": false,
        "inputHidden": false
      }
    },
    {
      "cell_type": "code",
      "source": [
        "Stock_Data.Plot_Line(dataset)"
      ],
      "outputs": [
        {
          "output_type": "display_data",
          "data": {
            "image/png": "[encoded data removed]",
            "text/plain": [
              "<Figure size 1008x720 with 1 Axes>"
            ]
          },
          "metadata": {}
        }
      ],
      "execution_count": 15,
      "metadata": {
        "collapsed": false,
        "outputHidden": false,
        "inputHidden": false
      }
    },
    {
      "cell_type": "code",
      "source": [
        "Stock_Data.Plot_hist(dataset)"
      ],
      "outputs": [
        {
          "output_type": "display_data",
          "data": {
            "image/png": "[encoded data removed]",
            "text/plain": [
              "<Figure size 1008x720 with 1 Axes>"
            ]
          },
          "metadata": {}
        }
      ],
      "execution_count": 16,
      "metadata": {
        "collapsed": false,
        "outputHidden": false,
        "inputHidden": false
      }
    }
  ],
  "metadata": {
    "kernel_info": {
      "name": "python3"
    },
    "language_info": {
      "version": "3.5.5",
      "name": "python",
      "file_extension": ".py",
      "pygments_lexer": "ipython3",
      "mimetype": "text/x-python",
      "nbconvert_exporter": "python",
      "codemirror_mode": {
        "name": "ipython",
        "version": 3
      }
    },
    "kernelspec": {
      "name": "python3",
      "language": "python",
      "display_name": "Python 3"
    },
    "nteract": {
      "version": "0.12.2"
    }
  },
  "nbformat": 4,
  "nbformat_minor": 4
}
